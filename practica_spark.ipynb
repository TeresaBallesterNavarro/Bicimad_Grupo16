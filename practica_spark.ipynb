{
 "cells": [
  {
   "cell_type": "markdown",
   "id": "6365ace9",
   "metadata": {},
   "source": [
    "# Importamos librerias "
   ]
  },
  {
   "cell_type": "code",
   "execution_count": 1,
   "id": "f81a4f8e",
   "metadata": {},
   "outputs": [],
   "source": [
    "import findspark\n",
    "findspark.init()\n"
   ]
  },
  {
   "cell_type": "code",
   "execution_count": 2,
   "id": "eb0091fa",
   "metadata": {},
   "outputs": [],
   "source": [
    "#from pyspark.sql import SparkSession #Para crear una sesión de Spark\n",
    "from pyspark.sql.types import *  \n",
    "from pyspark.sql.functions import *\n",
    "from pyspark import SparkContext, SparkConf\n",
    "from collections import Counter #Para contar la frecuencia de los elementos de una lista\n",
    "import json # Datos en formato JSON, pues los datos de BICIMAD vienen en ese formato\n",
    "#from pprint import pprint # Para imprimir de manera legible los resultados\n",
    "import datetime # Para poder trabajar con fechas \n",
    "import sys\n",
    "import statistics"
   ]
  },
  {
   "cell_type": "markdown",
   "id": "fa03e729",
   "metadata": {},
   "source": [
    "# Creamos sesión en spark"
   ]
  },
  {
   "cell_type": "code",
   "execution_count": 3,
   "id": "ef38fc6b",
   "metadata": {},
   "outputs": [],
   "source": [
    "#spark = SparkSession.builder.getOrCreate() #Creamos la sesión\n",
    "conf = SparkConf()\\\n",
    "        .setAppName('PracticaSpark')\n",
    "sc = SparkContext(conf = conf)"
   ]
  },
  {
   "cell_type": "markdown",
   "id": "fffd0b83",
   "metadata": {},
   "source": [
    "# Abrimos el archivo correspondiente a junio de 2022\n"
   ]
  },
  {
   "cell_type": "code",
   "execution_count": 4,
   "id": "e21bd510",
   "metadata": {},
   "outputs": [],
   "source": [
    "import json\n",
    "with open(r\"C:/Users/j4gon/Downloads/junio2019.json\", encoding='latin1') as f:\n",
    "    data = f.readlines()\n",
    "     \n",
    "\n",
    "rdd = sc.textFile(r\"C:/Users/j4gon/Downloads/junio2019.json\")"
   ]
  },
  {
   "cell_type": "code",
   "execution_count": 122,
   "id": "eb1db5dd",
   "metadata": {},
   "outputs": [],
   "source": [
    "def FiletoDic(line):#Seleccionamos los datos que vamos a utilizar\n",
    "\n",
    "  data=json.loads(line)\n",
    "  id_bici = data['_id']\n",
    "  usuario = data['user_day_code']\n",
    "  salida = data['idunplug_station']\n",
    "  llegada = data['idplug_station']\n",
    "  tiempo = data['travel_time']\n",
    "  edad = data['ageRange']\n",
    "  tipo = data['user_type']\n",
    "  \n",
    "  return usuario,id_bici,salida,llegada,tiempo,edad,tipo"
   ]
  },
  {
   "cell_type": "code",
   "execution_count": 83,
   "id": "5fcf5735",
   "metadata": {},
   "outputs": [
    {
     "data": {
      "text/plain": [
       "[('e4d55deb9ac172a8d8f5f0a32599815bd51b7c8760d67e42b11adf7c0829341b',\n",
       "  {'$oid': '5cf83b752f3843a016be4e2f'},\n",
       "  90,\n",
       "  66,\n",
       "  219,\n",
       "  0)]"
      ]
     },
     "execution_count": 83,
     "metadata": {},
     "output_type": "execute_result"
    }
   ],
   "source": [
    "rdd1 = rdd.map(FiletoDic)\n",
    "rdd.map(FiletoDic).take(1)"
   ]
  },
  {
   "cell_type": "code",
   "execution_count": 8,
   "id": "aaebd8a4",
   "metadata": {},
   "outputs": [
    {
     "data": {
      "text/plain": [
       "[('e4d55deb9ac172a8d8f5f0a32599815bd51b7c8760d67e42b11adf7c0829341b',\n",
       "  {'$oid': '5cf83b752f3843a016be4e2f'},\n",
       "  90,\n",
       "  66,\n",
       "  219,\n",
       "  0),\n",
       " ('8a0c4123e924a50a958f51985eb71aea750fb072438035f149283490cc6bfaf4',\n",
       "  {'$oid': '5cf83b762f3843a016be4e48'},\n",
       "  71,\n",
       "  136,\n",
       "  359,\n",
       "  4),\n",
       " ('a6a9c1f74a68496000542210abc4fc2eba79e2756ad5355a626632f7783dd418',\n",
       "  {'$oid': '5cf83b762f3843a016be4e4f'},\n",
       "  39,\n",
       "  38,\n",
       "  375,\n",
       "  4),\n",
       " ('5706c0bd494acc02279d532821c9666b0e506d4f81c838ef3147b2e0abbe7156',\n",
       "  {'$oid': '5cf83b762f3843a016be4e53'},\n",
       "  66,\n",
       "  90,\n",
       "  264,\n",
       "  5),\n",
       " ('eb1b6d32bd4add5d5ff91af72a38786d61075c090383a53882f33b0801eb0079',\n",
       "  {'$oid': '5cf83b762f3843a016be4e54'},\n",
       "  152,\n",
       "  166,\n",
       "  367,\n",
       "  4),\n",
       " ('c2905f6038aa9523da6bc3222c63c2ec3269c69281bf34eac161eed1ae2ba5f4',\n",
       "  {'$oid': '5cf83b762f3843a016be4e56'},\n",
       "  55,\n",
       "  53,\n",
       "  174,\n",
       "  5),\n",
       " ('f94420744ea060ac42ef3901cb251bb5b4ff63033be7bcb96d8764b968912691',\n",
       "  {'$oid': '5cf83b762f3843a016be4e59'},\n",
       "  133,\n",
       "  129,\n",
       "  308,\n",
       "  0),\n",
       " ('e75471af2ea032a327f636e28b8603c4cddab9155948fca85e82ec2f73c2bd1a',\n",
       "  {'$oid': '5cf83b762f3843a016be4e5a'},\n",
       "  153,\n",
       "  169,\n",
       "  462,\n",
       "  4),\n",
       " ('c0d73ee753773a3bfcc1483366a6ee68be9524dafbf65e81d31f4509d73304ac',\n",
       "  {'$oid': '5cf83b762f3843a016be4e5c'},\n",
       "  44,\n",
       "  129,\n",
       "  482,\n",
       "  0),\n",
       " ('47ecd557f21ca7aee6235dc015c6eaa7cea5e99e3aa8fbdfac8a308bb093f552',\n",
       "  {'$oid': '5cf83b762f3843a016be4e61'},\n",
       "  85,\n",
       "  133,\n",
       "  480,\n",
       "  4)]"
      ]
     },
     "execution_count": 8,
     "metadata": {},
     "output_type": "execute_result"
    }
   ],
   "source": [
    "rdd1 = rdd.map(FiletoDic)\n",
    "rdd.map(FiletoDic).take(10)"
   ]
  },
  {
   "cell_type": "markdown",
   "id": "bc91c777",
   "metadata": {
    "scrolled": true
   },
   "source": [
    "# Obtenemos las estaciones de salida y llegada para cada usuario"
   ]
  },
  {
   "cell_type": "code",
   "execution_count": 9,
   "id": "de0bf66c",
   "metadata": {},
   "outputs": [],
   "source": [
    "def salidas(line):\n",
    "    data    = FiletoDic(line)\n",
    "    return data[0],data[2]"
   ]
  },
  {
   "cell_type": "code",
   "execution_count": 10,
   "id": "dd64b7fc",
   "metadata": {},
   "outputs": [
    {
     "data": {
      "text/plain": [
       "[('e4d55deb9ac172a8d8f5f0a32599815bd51b7c8760d67e42b11adf7c0829341b', 90),\n",
       " ('8a0c4123e924a50a958f51985eb71aea750fb072438035f149283490cc6bfaf4', 71),\n",
       " ('a6a9c1f74a68496000542210abc4fc2eba79e2756ad5355a626632f7783dd418', 39),\n",
       " ('5706c0bd494acc02279d532821c9666b0e506d4f81c838ef3147b2e0abbe7156', 66),\n",
       " ('eb1b6d32bd4add5d5ff91af72a38786d61075c090383a53882f33b0801eb0079', 152),\n",
       " ('c2905f6038aa9523da6bc3222c63c2ec3269c69281bf34eac161eed1ae2ba5f4', 55),\n",
       " ('f94420744ea060ac42ef3901cb251bb5b4ff63033be7bcb96d8764b968912691', 133),\n",
       " ('e75471af2ea032a327f636e28b8603c4cddab9155948fca85e82ec2f73c2bd1a', 153),\n",
       " ('c0d73ee753773a3bfcc1483366a6ee68be9524dafbf65e81d31f4509d73304ac', 44),\n",
       " ('47ecd557f21ca7aee6235dc015c6eaa7cea5e99e3aa8fbdfac8a308bb093f552', 85)]"
      ]
     },
     "execution_count": 10,
     "metadata": {},
     "output_type": "execute_result"
    }
   ],
   "source": [
    "lista_salidas = rdd.map(salidas)\n",
    "lista_salidas.take(10)"
   ]
  },
  {
   "cell_type": "code",
   "execution_count": 11,
   "id": "85de947e",
   "metadata": {},
   "outputs": [],
   "source": [
    "def llegadas(line):\n",
    "    data    = FiletoDic(line)\n",
    "    return data[0],data[3]"
   ]
  },
  {
   "cell_type": "code",
   "execution_count": 12,
   "id": "b040c143",
   "metadata": {},
   "outputs": [
    {
     "data": {
      "text/plain": [
       "[('e4d55deb9ac172a8d8f5f0a32599815bd51b7c8760d67e42b11adf7c0829341b', 66),\n",
       " ('8a0c4123e924a50a958f51985eb71aea750fb072438035f149283490cc6bfaf4', 136),\n",
       " ('a6a9c1f74a68496000542210abc4fc2eba79e2756ad5355a626632f7783dd418', 38),\n",
       " ('5706c0bd494acc02279d532821c9666b0e506d4f81c838ef3147b2e0abbe7156', 90),\n",
       " ('eb1b6d32bd4add5d5ff91af72a38786d61075c090383a53882f33b0801eb0079', 166),\n",
       " ('c2905f6038aa9523da6bc3222c63c2ec3269c69281bf34eac161eed1ae2ba5f4', 53),\n",
       " ('f94420744ea060ac42ef3901cb251bb5b4ff63033be7bcb96d8764b968912691', 129),\n",
       " ('e75471af2ea032a327f636e28b8603c4cddab9155948fca85e82ec2f73c2bd1a', 169),\n",
       " ('c0d73ee753773a3bfcc1483366a6ee68be9524dafbf65e81d31f4509d73304ac', 129),\n",
       " ('47ecd557f21ca7aee6235dc015c6eaa7cea5e99e3aa8fbdfac8a308bb093f552', 133)]"
      ]
     },
     "execution_count": 12,
     "metadata": {},
     "output_type": "execute_result"
    }
   ],
   "source": [
    "lista_llegadas = rdd.map(llegadas)\n",
    "lista_llegadas.take(10)"
   ]
  },
  {
   "cell_type": "markdown",
   "id": "72df0667",
   "metadata": {},
   "source": [
    "# Ahora comprobemos aquellos usuario realizan un ciclo"
   ]
  },
  {
   "cell_type": "markdown",
   "id": "16f3f731",
   "metadata": {},
   "source": [
    "Un usuario realiza un ciclo si la estación de salida y de llegada coinciden, idependientemente de si en las estaciones que pare entre medias coja otra bici."
   ]
  },
  {
   "cell_type": "code",
   "execution_count": 13,
   "id": "b336397f",
   "metadata": {},
   "outputs": [],
   "source": [
    "def ciclo(line):\n",
    "    data = FiletoDic(line)\n",
    "    if data[2] == data[3]: \n",
    "        return (True, tiempo)\n",
    "    else:\n",
    "        return False"
   ]
  },
  {
   "cell_type": "code",
   "execution_count": 18,
   "id": "c90d8bea",
   "metadata": {},
   "outputs": [
    {
     "data": {
      "text/plain": [
       "[('bdfbb7774e97c37e95c79efa9e5f1cba2f6672dbf1f71c1faa2bc89e9e423ae0',\n",
       "  {'$oid': '5cf83b762f3843a016be4ea0'},\n",
       "  83,\n",
       "  83,\n",
       "  357,\n",
       "  0),\n",
       " ('c199289b53d6909ee2943de60baf3fd465f9ce30251683764ed30febe54b29ef',\n",
       "  {'$oid': '5cf83b762f3843a016be4eb4'},\n",
       "  48,\n",
       "  48,\n",
       "  520,\n",
       "  0)]"
      ]
     },
     "execution_count": 18,
     "metadata": {},
     "output_type": "execute_result"
    }
   ],
   "source": [
    "rdd1.filter(lambda x : x[2] == x[3]).take(2)"
   ]
  },
  {
   "cell_type": "code",
   "execution_count": 15,
   "id": "e9f699ff",
   "metadata": {},
   "outputs": [],
   "source": [
    "usuarios_ciclo = rdd1.filter(lambda x: x[2] == x[3])"
   ]
  },
  {
   "cell_type": "markdown",
   "id": "e9365e04",
   "metadata": {},
   "source": [
    "Obtenemos la el tiempo medio de los usuarios que realizan un ciclo"
   ]
  },
  {
   "cell_type": "code",
   "execution_count": 16,
   "id": "557dada3",
   "metadata": {},
   "outputs": [],
   "source": [
    "media_ciclo = usuarios_ciclo.map(lambda x : x[4]).mean()"
   ]
  },
  {
   "cell_type": "code",
   "execution_count": 17,
   "id": "a9f4434e",
   "metadata": {},
   "outputs": [
    {
     "data": {
      "text/plain": [
       "1636.1146547502462"
      ]
     },
     "execution_count": 17,
     "metadata": {},
     "output_type": "execute_result"
    }
   ],
   "source": [
    "media_ciclo"
   ]
  },
  {
   "cell_type": "markdown",
   "id": "65422243",
   "metadata": {},
   "source": [
    "Ahora veamos el número de bici que realiza cada usuario que hace un ciclo"
   ]
  },
  {
   "cell_type": "code",
   "execution_count": 51,
   "id": "5675007b",
   "metadata": {},
   "outputs": [
    {
     "data": {
      "text/plain": [
       "[('c199289b53d6909ee2943de60baf3fd465f9ce30251683764ed30febe54b29ef',\n",
       "  [{'$oid': '5cf83b762f3843a016be4eb4'}]),\n",
       " ('72c4d5ae9ffe74250e24f097428e68286a2508dfa3c5a3edb18a5778c917680b',\n",
       "  [{'$oid': '5cf83b782f3843a016be501f'}]),\n",
       " ('4cdb1b6ad690fd22b6ab696e30ec0df064c664907ca3b8cf9f0d03d0dbca0df0',\n",
       "  [{'$oid': '5cf83b792f3843a016be5148'}]),\n",
       " ('f7bd6a6fc4d1e9877a408549c6e6c5472950149a038efd55fec7e246c1d2415f',\n",
       "  [{'$oid': '5cf83b7e2f3843a016be54fc'}]),\n",
       " ('a25b20b6be2e1edd62999be61293d1694a281f6a981063792d5e915f2a1165a1',\n",
       "  [{'$oid': '5cf83b802f3843a016be5661'}]),\n",
       " ('3a68e3206fa97ec40ef6af9617b29864429db86d7cd02d63ebccabaa9f886d1d',\n",
       "  [{'$oid': '5cf83b812f3843a016be56f3'}]),\n",
       " ('09240046f85746b7118203eda51771455d04b2a02559bfd2c84851dde8e599b1',\n",
       "  [{'$oid': '5cf83b822f3843a016be5774'}]),\n",
       " ('92259580a14c46b2f876dc91329d68d28831e45a5a0cd224c34ef95699a49af0',\n",
       "  [{'$oid': '5cf83b842f3843a016be5882'}]),\n",
       " ('6892a7c42a19333973a22b799c53b5a14345d7a31fa470d5e4144acd0152b02c',\n",
       "  [{'$oid': '5cf83b872f3843a016be5a8a'},\n",
       "   {'$oid': '5cf83b912f3843a016be6274'},\n",
       "   {'$oid': '5cf83b992f3843a016be67e8'}]),\n",
       " ('393901d6f5cdde4d6889511e225c992524eb7c024a27f77ee21fea9b91875d70',\n",
       "  [{'$oid': '5cf83b872f3843a016be5ab1'}])]"
      ]
     },
     "execution_count": 51,
     "metadata": {},
     "output_type": "execute_result"
    }
   ],
   "source": [
    "num_bicis_ciclo = usuarios_ciclo.map(lambda x: (x[0],x[1]))\\\n",
    "                                .groupByKey()\\\n",
    "                                .mapValues(lambda x: list(x))\n",
    "num_bicis_ciclo.take(10)"
   ]
  },
  {
   "cell_type": "markdown",
   "id": "18fdddee",
   "metadata": {},
   "source": [
    "Ahora veamos de los usuarios que realizan un ciclo, cuales realizan un camino, que basicamente es \n",
    "comprobar que usuarios usan la misma bici en todo el trayecto"
   ]
  },
  {
   "cell_type": "code",
   "execution_count": 30,
   "id": "d8dd331c",
   "metadata": {},
   "outputs": [],
   "source": [
    "def es_camino(lista_bicis):\n",
    "    return all(x == lista_bicis[0] for x in lista_bicis)\n",
    "\n"
   ]
  },
  {
   "cell_type": "code",
   "execution_count": 56,
   "id": "87b9de2d",
   "metadata": {},
   "outputs": [],
   "source": [
    "usuarios_camino = usuarios_ciclo.map(lambda x: (x[0],x[1]))\\\n",
    "                                .groupByKey()\\\n",
    "                                .filter(lambda x: es_camino(list(x[1])))\\\n",
    "                                .mapValues(lambda x: list(x))\n",
    "num_usuarios_camino = usuarios_camino.count()                                "
   ]
  },
  {
   "cell_type": "code",
   "execution_count": 53,
   "id": "3bcd35ac",
   "metadata": {},
   "outputs": [
    {
     "data": {
      "text/plain": [
       "[('c199289b53d6909ee2943de60baf3fd465f9ce30251683764ed30febe54b29ef',\n",
       "  [{'$oid': '5cf83b762f3843a016be4eb4'}]),\n",
       " ('72c4d5ae9ffe74250e24f097428e68286a2508dfa3c5a3edb18a5778c917680b',\n",
       "  [{'$oid': '5cf83b782f3843a016be501f'}]),\n",
       " ('4cdb1b6ad690fd22b6ab696e30ec0df064c664907ca3b8cf9f0d03d0dbca0df0',\n",
       "  [{'$oid': '5cf83b792f3843a016be5148'}]),\n",
       " ('f7bd6a6fc4d1e9877a408549c6e6c5472950149a038efd55fec7e246c1d2415f',\n",
       "  [{'$oid': '5cf83b7e2f3843a016be54fc'}]),\n",
       " ('a25b20b6be2e1edd62999be61293d1694a281f6a981063792d5e915f2a1165a1',\n",
       "  [{'$oid': '5cf83b802f3843a016be5661'}])]"
      ]
     },
     "execution_count": 53,
     "metadata": {},
     "output_type": "execute_result"
    }
   ],
   "source": [
    "usuarios_camino.take(5)"
   ]
  },
  {
   "cell_type": "markdown",
   "id": "14e9f5fd",
   "metadata": {},
   "source": [
    "# Ahora vamos a analizar el tiempo medio de los ciudadanos que usan bicimad según su edad"
   ]
  },
  {
   "cell_type": "markdown",
   "id": "2c71127c",
   "metadata": {},
   "source": [
    "Para ello creamos rangos de edad y clasificamos los usuarios según dicho rango"
   ]
  },
  {
   "cell_type": "code",
   "execution_count": 84,
   "id": "72019db3",
   "metadata": {},
   "outputs": [],
   "source": [
    "edades = ['0 a 11','12 a 17','18 a 24','25 a 44','45 a 64','+65']"
   ]
  },
  {
   "cell_type": "code",
   "execution_count": 85,
   "id": "3c7bef5b",
   "metadata": {},
   "outputs": [
    {
     "data": {
      "text/plain": [
       "[('e4d55deb9ac172a8d8f5f0a32599815bd51b7c8760d67e42b11adf7c0829341b',\n",
       "  {'$oid': '5cf83b752f3843a016be4e2f'},\n",
       "  90,\n",
       "  66,\n",
       "  219,\n",
       "  0)]"
      ]
     },
     "execution_count": 85,
     "metadata": {},
     "output_type": "execute_result"
    }
   ],
   "source": [
    "usuarios_niños = rdd1.filter(lambda x: x[5] == 0)\n",
    "usuarios_niños.take(1)"
   ]
  },
  {
   "cell_type": "code",
   "execution_count": 86,
   "id": "142fb056",
   "metadata": {},
   "outputs": [
    {
     "data": {
      "text/plain": [
       "[('91d9fd874b55868c13ce72a7a610c3f52d1ff5877b2f5df5e2fc024a94880d43',\n",
       "  {'$oid': '5cf83b772f3843a016be4fbb'},\n",
       "  139,\n",
       "  141,\n",
       "  1146,\n",
       "  1)]"
      ]
     },
     "execution_count": 86,
     "metadata": {},
     "output_type": "execute_result"
    }
   ],
   "source": [
    "usuarios_adolescentes = rdd1.filter(lambda x: x[5] == 1)\n",
    "usuarios_adolescentes.take(1)"
   ]
  },
  {
   "cell_type": "code",
   "execution_count": 87,
   "id": "d0b6de33",
   "metadata": {},
   "outputs": [
    {
     "data": {
      "text/plain": [
       "[('1fb284b8dd58e2c3048e336b10d9c51f664fe353a7b914c370e90d1b03910faa',\n",
       "  {'$oid': '5cf83b762f3843a016be4e7a'},\n",
       "  77,\n",
       "  171,\n",
       "  466,\n",
       "  2)]"
      ]
     },
     "execution_count": 87,
     "metadata": {},
     "output_type": "execute_result"
    }
   ],
   "source": [
    "usuarios_jovenes = rdd1.filter(lambda x: x[5] == 2)\n",
    "usuarios_jovenes.take(1)"
   ]
  },
  {
   "cell_type": "code",
   "execution_count": 101,
   "id": "27e84aef",
   "metadata": {},
   "outputs": [
    {
     "data": {
      "text/plain": [
       "[('38448a3e32378668c9b690df6a67e68db9092ba31381b4e9422245f408604502',\n",
       "  {'$oid': '5cf83b762f3843a016be4e80'},\n",
       "  99,\n",
       "  151,\n",
       "  477,\n",
       "  3)]"
      ]
     },
     "execution_count": 101,
     "metadata": {},
     "output_type": "execute_result"
    }
   ],
   "source": [
    "usuarios_jovenes_adultos = rdd1.filter(lambda x: x[5] == 3)\n",
    "usuarios_jovenes_adultos.take(1)"
   ]
  },
  {
   "cell_type": "code",
   "execution_count": 89,
   "id": "63f86cae",
   "metadata": {},
   "outputs": [
    {
     "data": {
      "text/plain": [
       "[('8a0c4123e924a50a958f51985eb71aea750fb072438035f149283490cc6bfaf4',\n",
       "  {'$oid': '5cf83b762f3843a016be4e48'},\n",
       "  71,\n",
       "  136,\n",
       "  359,\n",
       "  4)]"
      ]
     },
     "execution_count": 89,
     "metadata": {},
     "output_type": "execute_result"
    }
   ],
   "source": [
    "usuarios_adultos = rdd1.filter(lambda x: x[5] == 4)\n",
    "usuarios_adultos.take(1)"
   ]
  },
  {
   "cell_type": "code",
   "execution_count": 90,
   "id": "4ec5d7ac",
   "metadata": {},
   "outputs": [
    {
     "data": {
      "text/plain": [
       "[('5706c0bd494acc02279d532821c9666b0e506d4f81c838ef3147b2e0abbe7156',\n",
       "  {'$oid': '5cf83b762f3843a016be4e53'},\n",
       "  66,\n",
       "  90,\n",
       "  264,\n",
       "  5)]"
      ]
     },
     "execution_count": 90,
     "metadata": {},
     "output_type": "execute_result"
    }
   ],
   "source": [
    "usuarios_mayores = rdd1.filter(lambda x: x[5] == 5)\n",
    "usuarios_mayores.take(1)"
   ]
  },
  {
   "cell_type": "markdown",
   "id": "228dfe7c",
   "metadata": {},
   "source": [
    "Ahora veamos cual es el tiempo promedio por franja de edad"
   ]
  },
  {
   "cell_type": "code",
   "execution_count": 118,
   "id": "e10be048",
   "metadata": {},
   "outputs": [
    {
     "name": "stdout",
     "output_type": "stream",
     "text": [
      "El tiempo medio de uso en los niños es 18.64 horas\n",
      "El tiempo medio de uso en los jovenes es 14.10 horas\n",
      "El tiempo medio de uso en los jovenes/adultos es 15.08 horas\n",
      "El tiempo medio de uso en los adultos es 15.10 horas\n",
      "El tiempo medio de uso en los mayores es 17.14 horas\n"
     ]
    }
   ],
   "source": [
    "media_niños = usuarios_niños.map(lambda x: (x[4])).mean()\n",
    "media_jovenes = usuarios_jovenes.map(lambda x: (x[4])).mean()\n",
    "media_jovenes_adultos = usuarios_jovenes_adultos.map(lambda x: (x[4])).mean()\n",
    "media_adultos = usuarios_adultos.map(lambda x: (x[4])).mean()\n",
    "media_mayores = usuarios_mayores.map(lambda x: (x[4])).mean()\n",
    "print(f'El tiempo medio de uso en los niños es {(f\"{(media_niños/60):.2f}\")} horas')\n",
    "print(f'El tiempo medio de uso en los jovenes es {f\"{(media_jovenes/60):.2f}\"} horas')\n",
    "print(f'El tiempo medio de uso en los jovenes/adultos es {f\"{(media_jovenes_adultos/60):.2f}\"} horas')\n",
    "print(f'El tiempo medio de uso en los adultos es {f\"{(media_adultos/60):.2f}\"} horas')\n",
    "print(f'El tiempo medio de uso en los mayores es {f\"{(media_mayores/60):.2f}\"} horas')"
   ]
  },
  {
   "cell_type": "markdown",
   "id": "0abda4d1",
   "metadata": {},
   "source": [
    "Veamos también el número de viajes que se realizan por franja de edad"
   ]
  },
  {
   "cell_type": "code",
   "execution_count": 114,
   "id": "fee3708f",
   "metadata": {},
   "outputs": [
    {
     "name": "stdout",
     "output_type": "stream",
     "text": [
      "Los niños han usado 199830 veces BICIMAD\n",
      "Los adolescentes han usado 3628 veces BICIMAD\n",
      "Los jovenes han usado 1928 veces BICIMAD\n",
      "Los jovenes/adultos han usado 23712 veces BICIMAD\n",
      "Los adultos han usado 124219 veces BICIMAD\n",
      "Los mayores han usado 95046 veces BICIMAD\n"
     ]
    }
   ],
   "source": [
    "usos_niños = usuarios_niños.map(lambda x: (x[5],1)).reduceByKey(lambda x,y: x + y).take(1)[0][1]\n",
    "usos_adolescentes = usuarios_adolescentes.map(lambda x: (x[5],1)).reduceByKey(lambda x,y: x + y).take(1)[0][1]\n",
    "usos_jovenes = usuarios_jovenes.map(lambda x: (x[5],1)).reduceByKey(lambda x,y: x + y).take(1)[0][1]\n",
    "usos_jovenes_adultos = usuarios_jovenes_adultos.map(lambda x: (x[5],1)).reduceByKey(lambda x,y: x + y).take(1)[0][1]\n",
    "usos_adultos = usuarios_adultos.map(lambda x: (x[5],1)).reduceByKey(lambda x,y: x + y).take(1)[0][1]\n",
    "usos_mayores = usuarios_mayores.map(lambda x: (x[5],1)).reduceByKey(lambda x,y: x + y).take(1)[0][1]\n",
    "print(f'Los niños han usado {usos_niños} veces BICIMAD')\n",
    "print(f'Los adolescentes han usado {usos_adolescentes} veces BICIMAD')\n",
    "print(f'Los jovenes han usado {usos_jovenes} veces BICIMAD')\n",
    "print(f'Los jovenes/adultos han usado {usos_jovenes_adultos} veces BICIMAD')\n",
    "print(f'Los adultos han usado {usos_adultos} veces BICIMAD')\n",
    "print(f'Los mayores han usado {usos_mayores} veces BICIMAD')"
   ]
  },
  {
   "cell_type": "code",
   "execution_count": 121,
   "id": "96c24a97",
   "metadata": {},
   "outputs": [
    {
     "name": "stdout",
     "output_type": "stream",
     "text": [
      "--------------- 5 ESTACIONES de SALIDA MÁS FRECUENTES ---------------\n",
      "[(163, 6605), (129, 6139), (175, 6009), (135, 5946), (90, 5660)]\n",
      "--------------- 5 ESTACIONES de SALIDA MENOS FRECUENTES ---------------\n",
      "[(2008, 6), (207, 313), (183, 425), (28, 490), (29, 708)]\n"
     ]
    }
   ],
   "source": [
    "# Mapeo y conteo de estaciones\n",
    "estaciones_origen = rdd1.map(lambda x: (x[2], 1))\\\n",
    "                           .reduceByKey(lambda x, y: x + y)\n",
    "\n",
    "# Ordenar por frecuencia\n",
    "estaciones_frecuentes = estaciones_origen.sortBy(lambda x: x[1], ascending = False)\n",
    "estaciones_NOfrecuentes = estaciones_origen.sortBy(lambda x: x[1], ascending = True)\n",
    "\n",
    "# Obtener las estaciones más frecuentes\n",
    "n = 5  \n",
    "print(\"--------------- 5 ESTACIONES de SALIDA MÁS FRECUENTES ---------------\")\n",
    "estaciones_top = estaciones_frecuentes.take(n) # Estaciones más frecuentes\n",
    "print(estaciones_top)\n",
    "print(\"--------------- 5 ESTACIONES de SALIDA MENOS FRECUENTES ---------------\")\n",
    "estaciones_bottom = estaciones_NOfrecuentes.take(n) # Estaciones menos frecuentes \n",
    "print(estaciones_bottom)"
   ]
  },
  {
   "cell_type": "code",
   "execution_count": null,
   "id": "8658e798",
   "metadata": {},
   "outputs": [],
   "source": [
    "# Seleccionamos los usarios de tipo 1, es decir, usuarios con uso diario\n",
    "rdd_users = rdd.filter(lambda x: x[0] == 1).map(lambda x: (x[6],tuple(x[2:])))\n",
    "\n",
    "result_dict = rdd_users.groupByKey().mapValues(tuple).mapValues(len).\\\n",
    "                map(lambda x: (x[1],x[0])).countByKey()\n",
    "print('Total de trayectos iniciales:', rdd_users.count())\n",
    "print(result_dict)\n",
    "#Para ordenar el diccionario con los resultados por número de viajes\n",
    "sorted(result_dict.values())\n",
    "#Una visualización sencilla\n",
    "import matplotlib.pyplot as plt\n",
    "fig, ax = plt.subplots()\n",
    "ax.bar(result_dict.keys(),result_dict.values())\n",
    "fig.show()"
   ]
  }
 ],
 "metadata": {
  "kernelspec": {
   "display_name": "Python 3 (ipykernel)",
   "language": "python",
   "name": "python3"
  },
  "language_info": {
   "codemirror_mode": {
    "name": "ipython",
    "version": 3
   },
   "file_extension": ".py",
   "mimetype": "text/x-python",
   "name": "python",
   "nbconvert_exporter": "python",
   "pygments_lexer": "ipython3",
   "version": "3.11.2"
  }
 },
 "nbformat": 4,
 "nbformat_minor": 5
}
